{
 "cells": [
  {
   "cell_type": "markdown",
   "id": "701fd99e",
   "metadata": {},
   "source": [
    "## Regression\n",
    "We will try to predict the percentage of votes won by Bill Clinton in the 1992\n",
    "election."
   ]
  },
  {
   "cell_type": "code",
   "execution_count": 1,
   "id": "87b3c974",
   "metadata": {},
   "outputs": [
    {
     "name": "stdout",
     "output_type": "stream",
     "text": [
      "%pylab is deprecated, use %matplotlib inline and import the required libraries.\n",
      "Populating the interactive namespace from numpy and matplotlib\n"
     ]
    }
   ],
   "source": [
    "import pandas as pd\n",
    "%pylab inline\n",
    "\n",
    "import statsmodels.api as sm\n",
    "from patsy import dmatrices"
   ]
  },
  {
   "cell_type": "markdown",
   "id": "c691822d",
   "metadata": {},
   "source": [
    "### [Q1 8 points] Read the data.\n",
    "Read in the data from the file `clinton1.dat`. \n",
    "Note that this is NOT a CSV file.\n",
    "The description of the data fields are present in `clinton1.txt`.\n",
    "You will have to figure out the right parameters for the read csv command yourself (e.g., the regular expression for the delimiter, and the names of the columns).\n",
    "\n",
    "*Note*: The dataset is from http://www.stat.ufl.edu/~winner/data/"
   ]
  },
  {
   "cell_type": "code",
   "execution_count": 15,
   "id": "d7563874",
   "metadata": {},
   "outputs": [
    {
     "data": {
      "text/html": [
       "<div>\n",
       "<style scoped>\n",
       "    .dataframe tbody tr th:only-of-type {\n",
       "        vertical-align: middle;\n",
       "    }\n",
       "\n",
       "    .dataframe tbody tr th {\n",
       "        vertical-align: top;\n",
       "    }\n",
       "\n",
       "    .dataframe thead th {\n",
       "        text-align: right;\n",
       "    }\n",
       "</style>\n",
       "<table border=\"1\" class=\"dataframe\">\n",
       "  <thead>\n",
       "    <tr style=\"text-align: right;\">\n",
       "      <th></th>\n",
       "      <th>CountyName</th>\n",
       "      <th>percentVoting</th>\n",
       "      <th>MedianAge</th>\n",
       "      <th>MeanSavings</th>\n",
       "      <th>PerCapitaIncome</th>\n",
       "      <th>PercentPoverty</th>\n",
       "      <th>PercentVeterans</th>\n",
       "      <th>PercentFemale</th>\n",
       "      <th>PopulationDensity</th>\n",
       "      <th>PercentNursingHomes</th>\n",
       "      <th>CrimeIndex</th>\n",
       "    </tr>\n",
       "  </thead>\n",
       "  <tbody>\n",
       "    <tr>\n",
       "      <th>0</th>\n",
       "      <td>Autauga, AL</td>\n",
       "      <td>30.92</td>\n",
       "      <td>31.7</td>\n",
       "      <td>57623</td>\n",
       "      <td>15768</td>\n",
       "      <td>15.2</td>\n",
       "      <td>10.74</td>\n",
       "      <td>51.41</td>\n",
       "      <td>60.4</td>\n",
       "      <td>2.36</td>\n",
       "      <td>457</td>\n",
       "    </tr>\n",
       "    <tr>\n",
       "      <th>1</th>\n",
       "      <td>Baldwin, AL</td>\n",
       "      <td>26.24</td>\n",
       "      <td>35.5</td>\n",
       "      <td>84935</td>\n",
       "      <td>16954</td>\n",
       "      <td>13.6</td>\n",
       "      <td>9.73</td>\n",
       "      <td>51.34</td>\n",
       "      <td>66.5</td>\n",
       "      <td>5.40</td>\n",
       "      <td>282</td>\n",
       "    </tr>\n",
       "    <tr>\n",
       "      <th>2</th>\n",
       "      <td>Barbour, AL</td>\n",
       "      <td>46.36</td>\n",
       "      <td>32.8</td>\n",
       "      <td>83656</td>\n",
       "      <td>15532</td>\n",
       "      <td>25.0</td>\n",
       "      <td>8.82</td>\n",
       "      <td>53.03</td>\n",
       "      <td>28.8</td>\n",
       "      <td>7.02</td>\n",
       "      <td>47</td>\n",
       "    </tr>\n",
       "    <tr>\n",
       "      <th>3</th>\n",
       "      <td>Blount, AL</td>\n",
       "      <td>32.92</td>\n",
       "      <td>34.5</td>\n",
       "      <td>61249</td>\n",
       "      <td>14820</td>\n",
       "      <td>15.0</td>\n",
       "      <td>9.67</td>\n",
       "      <td>51.15</td>\n",
       "      <td>62.4</td>\n",
       "      <td>2.36</td>\n",
       "      <td>185</td>\n",
       "    </tr>\n",
       "    <tr>\n",
       "      <th>4</th>\n",
       "      <td>Bullock, AL</td>\n",
       "      <td>67.67</td>\n",
       "      <td>31.7</td>\n",
       "      <td>75725</td>\n",
       "      <td>11120</td>\n",
       "      <td>33.0</td>\n",
       "      <td>7.08</td>\n",
       "      <td>50.76</td>\n",
       "      <td>17.6</td>\n",
       "      <td>2.91</td>\n",
       "      <td>141</td>\n",
       "    </tr>\n",
       "    <tr>\n",
       "      <th>...</th>\n",
       "      <td>...</td>\n",
       "      <td>...</td>\n",
       "      <td>...</td>\n",
       "      <td>...</td>\n",
       "      <td>...</td>\n",
       "      <td>...</td>\n",
       "      <td>...</td>\n",
       "      <td>...</td>\n",
       "      <td>...</td>\n",
       "      <td>...</td>\n",
       "      <td>...</td>\n",
       "    </tr>\n",
       "    <tr>\n",
       "      <th>2699</th>\n",
       "      <td>Sheridan, WY</td>\n",
       "      <td>35.81</td>\n",
       "      <td>36.3</td>\n",
       "      <td>87232</td>\n",
       "      <td>22250</td>\n",
       "      <td>11.6</td>\n",
       "      <td>16.59</td>\n",
       "      <td>50.73</td>\n",
       "      <td>9.5</td>\n",
       "      <td>4.67</td>\n",
       "      <td>275</td>\n",
       "    </tr>\n",
       "    <tr>\n",
       "      <th>2700</th>\n",
       "      <td>Sublette, WY</td>\n",
       "      <td>20.83</td>\n",
       "      <td>35.4</td>\n",
       "      <td>83020</td>\n",
       "      <td>18748</td>\n",
       "      <td>7.9</td>\n",
       "      <td>12.18</td>\n",
       "      <td>47.98</td>\n",
       "      <td>1.0</td>\n",
       "      <td>8.60</td>\n",
       "      <td>432</td>\n",
       "    </tr>\n",
       "    <tr>\n",
       "      <th>2701</th>\n",
       "      <td>Sweetwater, WY</td>\n",
       "      <td>43.09</td>\n",
       "      <td>30.4</td>\n",
       "      <td>104346</td>\n",
       "      <td>19086</td>\n",
       "      <td>7.7</td>\n",
       "      <td>14.64</td>\n",
       "      <td>49.42</td>\n",
       "      <td>3.9</td>\n",
       "      <td>3.00</td>\n",
       "      <td>625</td>\n",
       "    </tr>\n",
       "    <tr>\n",
       "      <th>2702</th>\n",
       "      <td>Washakie, WY</td>\n",
       "      <td>28.08</td>\n",
       "      <td>34.6</td>\n",
       "      <td>114176</td>\n",
       "      <td>17608</td>\n",
       "      <td>11.7</td>\n",
       "      <td>14.47</td>\n",
       "      <td>49.65</td>\n",
       "      <td>3.8</td>\n",
       "      <td>8.47</td>\n",
       "      <td>313</td>\n",
       "    </tr>\n",
       "    <tr>\n",
       "      <th>2703</th>\n",
       "      <td>Weston, WY</td>\n",
       "      <td>24.02</td>\n",
       "      <td>34.4</td>\n",
       "      <td>132959</td>\n",
       "      <td>19265</td>\n",
       "      <td>9.4</td>\n",
       "      <td>13.94</td>\n",
       "      <td>49.90</td>\n",
       "      <td>2.8</td>\n",
       "      <td>6.21</td>\n",
       "      <td>167</td>\n",
       "    </tr>\n",
       "  </tbody>\n",
       "</table>\n",
       "<p>2704 rows × 11 columns</p>\n",
       "</div>"
      ],
      "text/plain": [
       "          CountyName  percentVoting  MedianAge  MeanSavings  PerCapitaIncome  \\\n",
       "0        Autauga, AL          30.92       31.7        57623            15768   \n",
       "1        Baldwin, AL          26.24       35.5        84935            16954   \n",
       "2        Barbour, AL          46.36       32.8        83656            15532   \n",
       "3         Blount, AL          32.92       34.5        61249            14820   \n",
       "4        Bullock, AL          67.67       31.7        75725            11120   \n",
       "...              ...            ...        ...          ...              ...   \n",
       "2699    Sheridan, WY          35.81       36.3        87232            22250   \n",
       "2700    Sublette, WY          20.83       35.4        83020            18748   \n",
       "2701  Sweetwater, WY          43.09       30.4       104346            19086   \n",
       "2702    Washakie, WY          28.08       34.6       114176            17608   \n",
       "2703      Weston, WY          24.02       34.4       132959            19265   \n",
       "\n",
       "      PercentPoverty  PercentVeterans  PercentFemale  PopulationDensity  \\\n",
       "0               15.2            10.74          51.41               60.4   \n",
       "1               13.6             9.73          51.34               66.5   \n",
       "2               25.0             8.82          53.03               28.8   \n",
       "3               15.0             9.67          51.15               62.4   \n",
       "4               33.0             7.08          50.76               17.6   \n",
       "...              ...              ...            ...                ...   \n",
       "2699            11.6            16.59          50.73                9.5   \n",
       "2700             7.9            12.18          47.98                1.0   \n",
       "2701             7.7            14.64          49.42                3.9   \n",
       "2702            11.7            14.47          49.65                3.8   \n",
       "2703             9.4            13.94          49.90                2.8   \n",
       "\n",
       "      PercentNursingHomes  CrimeIndex  \n",
       "0                    2.36         457  \n",
       "1                    5.40         282  \n",
       "2                    7.02          47  \n",
       "3                    2.36         185  \n",
       "4                    2.91         141  \n",
       "...                   ...         ...  \n",
       "2699                 4.67         275  \n",
       "2700                 8.60         432  \n",
       "2701                 3.00         625  \n",
       "2702                 8.47         313  \n",
       "2703                 6.21         167  \n",
       "\n",
       "[2704 rows x 11 columns]"
      ]
     },
     "execution_count": 15,
     "metadata": {},
     "output_type": "execute_result"
    }
   ],
   "source": [
    "clinton1 = pd.read_csv(\"clinton1.dat\",\n",
    "                      sep = \"\\s\\s+\",\n",
    "                      header = None,\n",
    "                      names = [\"CountyName\", \"percentVoting\", \\\n",
    "                              \"MedianAge\", \"MeanSavings\", \"PerCapitaIncome\", \\\n",
    "                              \"PercentPoverty\", \"PercentVeterans\", \"PercentFemale\", \\\n",
    "                              \"PopulationDensity\", \"PercentNursingHomes\", \"CrimeIndex\"],\n",
    "                      engine = \"python\")\n",
    "clinton1"
   ]
  },
  {
   "cell_type": "markdown",
   "id": "2d3616c6",
   "metadata": {},
   "source": [
    "### [Q2 8 points] Predict percentVoting on all regressors.\n",
    "One of the fields in the data is “Percent voting for Clinton in 1992”; let’s call it `percentVoting`.\n",
    "Regress `percentVoting` on all available regressors.\n",
    "Which two regressors have the worst p-values?"
   ]
  },
  {
   "cell_type": "code",
   "execution_count": 16,
   "id": "7f24a1c0",
   "metadata": {},
   "outputs": [
    {
     "data": {
      "text/plain": [
       "MedianAge     0.238619\n",
       "CrimeIndex    0.141950\n",
       "dtype: float64"
      ]
     },
     "execution_count": 16,
     "metadata": {},
     "output_type": "execute_result"
    }
   ],
   "source": [
    "y, X = dmatrices(\"percentVoting ~ MedianAge + MeanSavings + PerCapitaIncome + PercentPoverty + PercentVeterans + PercentFemale + PopulationDensity + PercentNursingHomes + CrimeIndex\", data = clinton1, return_type = \"dataframe\")\n",
    "model = sm.OLS(y, X)\n",
    "result = model.fit()\n",
    "result.pvalues.sort_values(ascending = False)[:2]"
   ]
  },
  {
   "cell_type": "markdown",
   "id": "d089a6ad",
   "metadata": {},
   "source": [
    "\n",
    "### [Q3 8 points] A formula-creating function.\n",
    "Write a function called `formula` that\n",
    "* takes a list of regressors as input, and\n",
    "* outputs the formula for regressing `percentVoting` on these regressors.\n",
    "\n",
    "For example:\n",
    "<pre>formula(['age', 'savings'])</pre>\n",
    "should output\n",
    "<pre>percentVoting ∼ age + savings</pre>"
   ]
  },
  {
   "cell_type": "code",
   "execution_count": 17,
   "id": "82513f92",
   "metadata": {},
   "outputs": [],
   "source": [
    "def formula(s):\n",
    "    formula = \"percentVoting ~ \"\n",
    "    for index, variable in enumerate(s):\n",
    "        if index + 1 < len(s):\n",
    "            formula += variable + \" + \"\n",
    "        else:\n",
    "            formula += variable\n",
    "    return formula"
   ]
  },
  {
   "cell_type": "markdown",
   "id": "4231b53c",
   "metadata": {},
   "source": [
    "### [Q4 8 points] R-squared computation function.\n",
    "Write a function called `rsquared` that with the following properties:\n",
    "* **Input:** a list of regressors (e.g., `['age', 'savings']`),\n",
    "* **Output:** the R-squared of a regression of `percentVoting` with respect to the list of regressors. \n",
    "\n",
    "You can use the `formula` function you wrote above.\n",
    "\n",
    "* Show the output of `rsquared` with the input being `['age']`"
   ]
  },
  {
   "cell_type": "code",
   "execution_count": 18,
   "id": "ebaf2e77",
   "metadata": {},
   "outputs": [
    {
     "data": {
      "text/plain": [
       "0.0033799834005024953"
      ]
     },
     "execution_count": 18,
     "metadata": {},
     "output_type": "execute_result"
    }
   ],
   "source": [
    "def rsquared(s):\n",
    "    y, X = dmatrices(formula(s), data = clinton1, return_type = \"dataframe\")\n",
    "    model = sm.OLS(y, X)\n",
    "    result = model.fit()\n",
    "    return result.rsquared\n",
    "\n",
    "rsquared([\"MedianAge\"])"
   ]
  },
  {
   "cell_type": "markdown",
   "id": "b1a7419c",
   "metadata": {},
   "source": [
    "### [Q5 8 points] Find the next best regressor.\n",
    "Write a function called `best_next_regressor` with the following properties:\n",
    "* **Inputs:**\n",
    "    * a list of regressors (called `current_regressors`), and\n",
    "    * the list of all possible regressors (called `all_regressors`)\n",
    "* **What it does:** For every regressor `x` from the `all_regressors` list that, calculate the R-square if you regressed `percentVoting` using `x` AND all the regressors in `current_regressors`.\n",
    "* **Output:** Return the regressor `x` that gives the highest R-square value above. Also, return this R-square value.\n",
    "* Show the output of `best_next_regressor` with `current_regressors=[]`"
   ]
  },
  {
   "cell_type": "code",
   "execution_count": 19,
   "id": "ed6ef8bc",
   "metadata": {},
   "outputs": [
    {
     "data": {
      "text/plain": [
       "('PercentPoverty', 0.2510385196163196)"
      ]
     },
     "execution_count": 19,
     "metadata": {},
     "output_type": "execute_result"
    }
   ],
   "source": [
    "def best_next_regressor(current_regressors, all_regressors):\n",
    "    highestr2 = 0\n",
    "    highestregg = \"\"\n",
    "    for regg in all_regressors:\n",
    "        temp = current_regressors.copy()\n",
    "        temp.append(regg)\n",
    "        tempr2 = rsquared(temp)\n",
    "        if tempr2 > highestr2:\n",
    "            highestr2 = tempr2\n",
    "            highestregg = regg\n",
    "    return highestregg, highestr2\n",
    "\n",
    "best_next_regressor([], clinton1.columns.tolist()[2:])"
   ]
  },
  {
   "cell_type": "markdown",
   "id": "1e9f5fa8",
   "metadata": {},
   "source": [
    "### [Q6 8 points] Pick the k best regressors.\n",
    "Write a function called `best_regressors` that has the following properties:\n",
    "* **Inputs:**\n",
    "    * `k`, which is the number of regressors we want (e.g., `k=3`), and\n",
    "    * `all_regressors`, which again is the list of all possible regressors.\n",
    "* **What it does:** The function `best_regressors` should compute the best `k` regressors by picking them one at a time using the `best_next_regressor` function from Q5.\n",
    "* **Outputs:** The function should return a tuple of the following items:\n",
    "    * a list of the best regressors, in the order in which they were picked, and\n",
    "    * the corresponding R-square values.\n",
    "    \n",
    "In other words, the output should be a list of the results of calling `best_next_regressor.`\n",
    "* Show the output of `best_regressors` with `k=3`."
   ]
  },
  {
   "cell_type": "code",
   "execution_count": 20,
   "id": "b260bab2",
   "metadata": {},
   "outputs": [
    {
     "data": {
      "text/plain": [
       "[('PercentPoverty', 0.2510385196163196),\n",
       " ('PopulationDensity', 0.2858298022910579),\n",
       " ('PercentFemale', 0.30914506632485783)]"
      ]
     },
     "execution_count": 20,
     "metadata": {},
     "output_type": "execute_result"
    }
   ],
   "source": [
    "def best_regressors(k, all_regressors):\n",
    "    best_list_names = []\n",
    "    best_list = []\n",
    "    for x in range(k):\n",
    "        next_best = best_next_regressor(best_list_names, all_regressors)\n",
    "        all_regressors.remove(next_best[0])\n",
    "        best_list_names.append(next_best[0])\n",
    "        best_list.append(next_best)\n",
    "    return best_list\n",
    "best_regressors(3, clinton1.columns.tolist()[2:])"
   ]
  },
  {
   "cell_type": "markdown",
   "id": "66c01538",
   "metadata": {},
   "source": [
    "### [Q7 8 points] Order all regressors in the best order.\n",
    "Run `best_regressors` to output all available regressors in sequence.\n",
    "* **Outputs:** The first item in the result should be the best single regressor. The second item should be the next best regressor that combined with the first regressor gives the best R-square, and so on.\n",
    "\n",
    "This idea of ordering the regressors in this particular order is called **forward selection**, and is one way of selecting only a few regressors when given a large set of regressors."
   ]
  },
  {
   "cell_type": "code",
   "execution_count": 21,
   "id": "0ccc6dec",
   "metadata": {},
   "outputs": [
    {
     "data": {
      "text/plain": [
       "[('PercentPoverty', 0.2510385196163196),\n",
       " ('PopulationDensity', 0.2858298022910579),\n",
       " ('PercentFemale', 0.30914506632485783),\n",
       " ('MeanSavings', 0.31924118502370513),\n",
       " ('PercentVeterans', 0.32299256887291694),\n",
       " ('PercentNursingHomes', 0.3248512713869368),\n",
       " ('PerCapitaIncome', 0.32582492389958884),\n",
       " ('CrimeIndex', 0.32655325570492566),\n",
       " ('MedianAge', 0.32690038725174053)]"
      ]
     },
     "execution_count": 21,
     "metadata": {},
     "output_type": "execute_result"
    }
   ],
   "source": [
    "order_regg = best_regressors(9, clinton1.columns.tolist()[2:])\n",
    "order_regg"
   ]
  },
  {
   "cell_type": "markdown",
   "id": "ac153dfc",
   "metadata": {},
   "source": [
    "### [Q8 8 points] Plot the R-squared values as regressors are added in the best order."
   ]
  },
  {
   "cell_type": "code",
   "execution_count": 22,
   "id": "318ba2ea",
   "metadata": {},
   "outputs": [
    {
     "data": {
      "text/plain": [
       "<AxesSubplot: xlabel='Regressor', ylabel='r^2'>"
      ]
     },
     "execution_count": 22,
     "metadata": {},
     "output_type": "execute_result"
    },
    {
     "data": {
      "image/png": "[encoded data removed]",
      "text/plain": [
       "<Figure size 1800x1200 with 1 Axes>"
      ]
     },
     "metadata": {},
     "output_type": "display_data"
    }
   ],
   "source": [
    "dfq8 = pd.DataFrame(order_regg, columns = [\"Regressor\", \"r^2\"])\n",
    "dfq8.plot.scatter(\"Regressor\", \"r^2\", s = 70, marker = \"X\", figsize = (18, 12), ylim = .15)"
   ]
  },
  {
   "cell_type": "markdown",
   "id": "2b07c5a9",
   "metadata": {},
   "source": [
    "---\n",
    "# K-Nearest Neighbors Classification\n",
    "We will work with the same dataset as above."
   ]
  },
  {
   "cell_type": "markdown",
   "id": "301c8b94",
   "metadata": {},
   "source": [
    "### [Q9 8 points] Create a classification target.\n",
    "Attach a new column, called `target` to the DataFrame, whose value for each row is either 1 (if `percentVoting` is at least 40.0), or 0 (if `percentVoting` is less than 40.0)."
   ]
  },
  {
   "cell_type": "code",
   "execution_count": 23,
   "id": "55d95836",
   "metadata": {},
   "outputs": [],
   "source": [
    "def classify_1or0(s):\n",
    "    if s > 40.0:\n",
    "        return 1\n",
    "    else:\n",
    "        return 0\n",
    "clinton1[\"target\"] = clinton1[\"percentVoting\"].map(classify_1or0)"
   ]
  },
  {
   "cell_type": "markdown",
   "id": "d59491dd",
   "metadata": {},
   "source": [
    "### [Q10 8 points] Create training and test sets.\n",
    "* Create design matrices for predicting the `target` using just two features: `poverty` and `popdensity`.\n",
    "* Split this into design matrices for training and testing datasets, with 70% data being used for training, and 30% for testing."
   ]
  },
  {
   "cell_type": "code",
   "execution_count": 24,
   "id": "0028d2db",
   "metadata": {},
   "outputs": [],
   "source": [
    "from sklearn.model_selection import train_test_split\n",
    "\n",
    "Y1, X1 = dmatrices(\"target ~ 0 + PercentPoverty + PopulationDensity\", clinton1, return_type = \"dataframe\")\n",
    "y1 = Y1[\"target\"].values\n",
    "\n",
    "X1_train, X1_test, y1_train, y1_test = train_test_split(X1, y1, test_size = 0.3, random_state = 1)"
   ]
  },
  {
   "cell_type": "markdown",
   "id": "0f94a4b9",
   "metadata": {},
   "source": [
    "### [Q11 12 points] Accuracy of classification.\n",
    "* Use a K-nearest neighbors classifier to predict the target using the two given features, using 1, 3, 5, 10, 20, 50, 100, and 1000 nearest neighbors respectively.\n",
    "* Print out the training and test accuracy for each of these."
   ]
  },
  {
   "cell_type": "code",
   "execution_count": 25,
   "id": "7600d2f4",
   "metadata": {},
   "outputs": [
    {
     "name": "stdout",
     "output_type": "stream",
     "text": [
      "# of Nearest Neighbors: 1 | Training Accuracy: 0.9978858350951374 | 0.6009852216748769\n",
      "# of Nearest Neighbors: 3 | Training Accuracy: 0.7885835095137421 | 0.6342364532019704\n",
      "# of Nearest Neighbors: 5 | Training Accuracy: 0.75 | 0.6305418719211823\n",
      "# of Nearest Neighbors: 10 | Training Accuracy: 0.7214587737843552 | 0.6477832512315271\n",
      "# of Nearest Neighbors: 20 | Training Accuracy: 0.6908033826638478 | 0.6588669950738916\n",
      "# of Nearest Neighbors: 50 | Training Accuracy: 0.6844608879492601 | 0.6613300492610837\n",
      "# of Nearest Neighbors: 100 | Training Accuracy: 0.6781183932346723 | 0.6650246305418719\n",
      "# of Nearest Neighbors: 1000 | Training Accuracy: 0.5665961945031712 | 0.5701970443349754\n"
     ]
    }
   ],
   "source": [
    "from sklearn import neighbors, metrics\n",
    "\n",
    "def neighbors_prediction(num_neighbors):\n",
    "    model = neighbors.KNeighborsClassifier(n_neighbors = num_neighbors, weights='uniform', p=2)\n",
    "    model.fit(X1_train, y1_train)\n",
    "    prediction_on_training = model.predict(X1_train)\n",
    "    prediction_on_testing = model.predict(X1_test)\n",
    "    \n",
    "    return (metrics.accuracy_score(y1_train, prediction_on_training), metrics.accuracy_score(y1_test, prediction_on_testing))\n",
    "\n",
    "for x in [1, 3, 5, 10, 20, 50, 100, 1000]:\n",
    "    pred_training, pred_test = neighbors_prediction(x)\n",
    "    print(\"# of Nearest Neighbors:\", x, \"|\", \"Training Accuracy:\", pred_training, \"|\", pred_test)"
   ]
  },
  {
   "cell_type": "markdown",
   "id": "e2c4b11e",
   "metadata": {},
   "source": [
    "### [Q12 8 points] Plots and reasons.\n",
    "Show a scatter plot of `popdensity` versus `poverty`, and color the points according to the `target` (i.e., each point in the scatter plot represents a county, and the color of the county depends on the value of target for that county).\n",
    "\n",
    "Can you interpret the plot? What types of counties voted for Bill Clinton?"
   ]
  },
  {
   "cell_type": "code",
   "execution_count": 26,
   "id": "1a5d7763",
   "metadata": {},
   "outputs": [
    {
     "data": {
      "text/plain": [
       "Text(0, 0.5, 'Percent Poverty')"
      ]
     },
     "execution_count": 26,
     "metadata": {},
     "output_type": "execute_result"
    },
    {
     "data": {
      "image/png": "[encoded data removed]",
      "text/plain": [
       "<Figure size 640x480 with 2 Axes>"
      ]
     },
     "metadata": {},
     "output_type": "display_data"
    }
   ],
   "source": [
    "sc = scatter(X1[\"PopulationDensity\"], X1[\"PercentPoverty\"], c = y1, cmap = \"bwr\")\n",
    "colorbar(sc)\n",
    "xlabel(\"Population Density\")\n",
    "ylabel(\"Percent Poverty\")\n"
   ]
  },
  {
   "attachments": {},
   "cell_type": "markdown",
   "id": "ce2a4984",
   "metadata": {},
   "source": [
    "Looking at the plot, there is a much larger clustering of red dots (voted for Clinton) the higher in counties with higher poverty percentages.\n",
    "Furthermore, counties with higher population densities also seemed to vote for Clinton."
   ]
  }
 ],
 "metadata": {
  "kernelspec": {
   "display_name": "Python 3 (ipykernel)",
   "language": "python",
   "name": "python3"
  },
  "language_info": {
   "codemirror_mode": {
    "name": "ipython",
    "version": 3
   },
   "file_extension": ".py",
   "mimetype": "text/x-python",
   "name": "python",
   "nbconvert_exporter": "python",
   "pygments_lexer": "ipython3",
   "version": "3.11.0"
  }
 },
 "nbformat": 4,
 "nbformat_minor": 5
}
