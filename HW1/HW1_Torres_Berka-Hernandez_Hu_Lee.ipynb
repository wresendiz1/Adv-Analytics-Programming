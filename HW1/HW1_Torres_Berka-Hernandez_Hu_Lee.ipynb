{
 "cells": [
  {
   "attachments": {},
   "cell_type": "markdown",
   "metadata": {},
   "source": [
    "# Question 1 Rock, Paper, Scissors Game\n",
    "## Approach:\n",
    "\n",
    "A nested dictionary keeps track of each action and its attributes, and a dictionary keeps track of overall game statistics. A continuous while loop runs that prompts the user for an input, validated by a regular expression search function. If the input is valid, the computer checks the 'count' value in the nested dictionary to see the most commonly chosen action. A list of the tied actions is created if there is a tie, and a key is randomly selected using the choice function. After both sides’ moves are valid, conditional statements are used to find the winner by comparing their attributes. The dictionaries are updated to reflect the outcome, and another game is played until the user quits."
   ]
  },
  {
   "cell_type": "code",
   "execution_count": 8,
   "metadata": {},
   "outputs": [
    {
     "name": "stdout",
     "output_type": "stream",
     "text": [
      "Computer chose paper and you chose rock. Computer wins.\n",
      "Computer chose paper and you chose rock. Computer wins.\n",
      "Computer chose paper and you chose paper. It's a tie.\n",
      "Computer chose paper and you chose paper. It's a tie.\n",
      "Computer chose paper and you chose rock. Computer wins.\n",
      "Computer chose paper and you chose paper. It's a tie.\n",
      "Invalid input. Try again.\n",
      "Invalid input. Try again.\n",
      "You played 6 games and won 0 games.\n"
     ]
    }
   ],
   "source": [
    "import re\n",
    "\n",
    "\n",
    "def rock_paper_scissors():\n",
    "    actions = {\n",
    "        \"rock\": {\"beats\": \"scissors\", \"loses\": \"paper\", \"count\": 0},\n",
    "        \"paper\": {\"beats\": \"rock\", \"loses\": \"scissors\", \"count\": 0},\n",
    "        \"scissors\": {\"beats\": \"paper\", \"loses\": \"rock\", \"count\": 0},\n",
    "    }\n",
    "\n",
    "    score = {\"games_played\": 0, \"games_won\": 0}\n",
    "\n",
    "    while True:\n",
    "        try:\n",
    "            human = input(\n",
    "                \"Enter your choice: 'rock' for rock, 'paper' for paper, 'scissors' for scissors. To quit type 'quit': \"\n",
    "            ).strip()\n",
    "\n",
    "            # check if input is valid\n",
    "            valid_action = re.search(r\"rock|paper|scissors|quit\", human, re.IGNORECASE)\n",
    "\n",
    "            if valid_action.group(0) == \"quit\":\n",
    "                print(\n",
    "                    f'You played {score[\"games_played\"]} games and won {score[\"games_won\"]} games.',\n",
    "                    flush=True,\n",
    "                )\n",
    "                break\n",
    "\n",
    "            elif valid_action:\n",
    "                human = valid_action.group(0)\n",
    "                draw_human = actions[human]\n",
    "\n",
    "            else:\n",
    "                print(\"Invalid input. Try again.\", flush=True)\n",
    "                continue\n",
    "\n",
    "            high = max(i[\"count\"] for i in actions.values())\n",
    "\n",
    "            computer_high = [k for k, v in actions.items() if v[\"count\"] == high]\n",
    "\n",
    "            # Choose winning move out of ones tied for most played if more than one\n",
    "            if len(computer_high) > 1:\n",
    "                for move in computer_high:\n",
    "                    if actions[move][\"loses\"] in computer_high:\n",
    "                        computer = actions[move][\"loses\"]\n",
    "                        break\n",
    "            else:\n",
    "                computer = actions[computer_high[0]][\"loses\"]\n",
    "\n",
    "            if draw_human[\"beats\"] == computer:\n",
    "                actions[human][\"count\"] += 1\n",
    "                score[\"games_won\"] += 1\n",
    "                print(\n",
    "                    f\"Computer chose {computer} and you chose {human}. You win.\",\n",
    "                    flush=True,\n",
    "                )\n",
    "\n",
    "            elif draw_human[\"loses\"] == computer:\n",
    "                print(\n",
    "                    f\"Computer chose {computer} and you chose {human}. Computer wins.\",\n",
    "                    flush=True,\n",
    "                )\n",
    "\n",
    "            else:\n",
    "                print(\n",
    "                    f\"Computer chose {computer} and you chose {human}. It's a tie.\",\n",
    "                    flush=True,\n",
    "                )\n",
    "\n",
    "            actions[human][\"count\"] += 1\n",
    "            score[\"games_played\"] += 1\n",
    "        except Exception:\n",
    "            print(\"Invalid input. Try again.\", flush=True)\n",
    "            continue\n",
    "\n",
    "\n",
    "rock_paper_scissors()"
   ]
  },
  {
   "attachments": {},
   "cell_type": "markdown",
   "metadata": {},
   "source": [
    "## Description:"
   ]
  },
  {
   "attachments": {},
   "cell_type": "markdown",
   "metadata": {},
   "source": [
    "- We first import random and choice libaries in order to allow the code to work, along with the re for regular expression operations.\n",
    "- We then use the defined function rock_paper_scissors in order to create the dictionaries for the variables.\n",
    "- Then use a While True to allow nested if, elif, else statments for both the humans and computer choses between rock, paper, or scissors along with number of games played.\n",
    "\n"
   ]
  },
  {
   "attachments": {},
   "cell_type": "markdown",
   "metadata": {},
   "source": [
    "# Question 2 Movies\n",
    "## Approach:\n",
    "The helper function takes in a CSV file with the specified fields and converts it to a dictionary that pairs movies with its list of actors. The main function then prints out the dictionary in a user-friendly configuration, followed by two prompts for user input. The input is validated by a findall regex function that searches through the keys for instances of the given movie, and if the function call returns a list with two matches, the inputs are valid. The dictionary values are converted into sets to use the intersection and difference set operations, and the results are printed."
   ]
  },
  {
   "cell_type": "code",
   "execution_count": 16,
   "metadata": {},
   "outputs": [
    {
     "name": "stdout",
     "output_type": "stream",
     "text": [
      "Movies in database:\n",
      "Sleepers                      Troy                          Meet Joe Black                Oceans Eleven                 Seven                         \n",
      "Mr & Mrs Smith                You have got mail             Apollo 13                     Sleepless in Seattle          Catch Me If You Can           \n",
      "National Treasure             The Lost City                 Hannibal                      The Edge                      Proof                         \n",
      "Pearl Harbor                  Bone Collector                Lara Croft Tomb Raider        The Siege                     American Gangster             \n",
      "Pretty Woman                  Runaway Bride                 Shakespeare in Love           Bounce                        Gladiator                     \n",
      "A Beautiful Mind              Cinderella Man                Rocky                         Rambo                         Assassins                     \n",
      "Edward Scissorhands           The Pirates of Caribbean      Finding Neverland             Titanic                       Blood Diamond                 \n",
      "The Departed                  The Mask of Zorro             Desperado                     Top Gun                       Mission Impossible            \n",
      "Jerry Maguire                 A Few Good Men                Intolerable Cruelty           Good Will Hunting             Bourne Identity               \n",
      "Bourne Ultimatum              Million Dollar Baby           Bruce Almighty                Die Hard                      The Sixth Sense               \n",
      "Pulp Fiction                  Wild Wild West                Pursuit of Happyness          Hitch                         Men in Black                  \n",
      "The Mask                      Ace Ventura                   Me-Myself & Irene             \n",
      "\n",
      "\n",
      "The actors in common are: \n",
      "Brad Pitt\n",
      "\n",
      "\n",
      "The actors in Sleepers but not in Troy are: \n",
      "Kevin Bacon\n",
      "Dustin Hoffman\n",
      "\n",
      "\n",
      "The actors in Troy but not in Sleepers are: \n",
      "Diane Kruger\n"
     ]
    }
   ],
   "source": [
    "import re\n",
    "\n",
    "# Creates a dictionary with keys as movies and values as a list of actors\n",
    "def movie_dict(file):\n",
    "\n",
    "    with open(file, \"r\") as fp:\n",
    "        movies = {}        \n",
    "        for line in fp:\n",
    "            line = line.strip().split(\",\")\n",
    "            for movie in line[1:]:\n",
    "                if movie in movies:\n",
    "                    movies[movie] += [line[0]]\n",
    "                else:\n",
    "                    movies[movie] = [line[0]]\n",
    "\n",
    "    return movies\n",
    "\n",
    "\n",
    "\n",
    "\n",
    "def movie_check():\n",
    "    movies = movie_dict(\"movies.csv\")\n",
    "\n",
    "    print(\"Movies in database:\")\n",
    "    for i, movie in enumerate(movies):\n",
    "        if i % 5 == 0 and i != 0:\n",
    "            print()\n",
    "        print(\"{:<30}\".format(movie), end=\"\")\n",
    "    print()\n",
    "\n",
    "\n",
    "   \n",
    "\n",
    "    movie1 = input(\"What is the first movie you want to compare? \").strip()\n",
    "    movie2 = input(\"What is the second movie you want to compare? \").strip()\n",
    "\n",
    "    \n",
    "\n",
    "    # Check if movie1 and movie2 are in the database\n",
    "    valid = re.findall(movie1 + \"|\" + movie2, \" \".join(movies.keys()), re.IGNORECASE)\n",
    "    if len(valid) != 2:\n",
    "        print(\"\\nOne or more movies are not in the database.\")\n",
    "        return\n",
    "\n",
    "    else:\n",
    "        movie1 = valid[0]\n",
    "        movie2 = valid[1]\n",
    "        # find the intersection of the two movies\n",
    "        both = set(movies[movie1]) & set(movies[movie2])\n",
    "        # All actors in movie 1 but not in movie 2\n",
    "        only1 = set(movies[movie1]) - set(movies[movie2])\n",
    "        # All actors in movie 2 but not in movie 1\n",
    "        only2 = set(movies[movie2]) - set(movies[movie1])\n",
    "\n",
    "\n",
    "        if len(both) == 0:\n",
    "            print(\"\\n\\nThere are no actors in common.\")\n",
    "        else:\n",
    "            print(\"\\n\\nThe actors in common are: \")\n",
    "            for actor in both:\n",
    "                print(actor)\n",
    "\n",
    "        print(\"\\n\\nThe actors in\", movie1, \"but not in\", movie2, \"are: \")\n",
    "        for actor in only1:\n",
    "            print(actor)\n",
    "\n",
    "        print(\"\\n\\nThe actors in\", movie2, \"but not in\", movie1, \"are: \")\n",
    "        for actor in only2:\n",
    "            print(actor)\n",
    "\n",
    "movie_check()"
   ]
  },
  {
   "attachments": {},
   "cell_type": "markdown",
   "metadata": {},
   "source": [
    "## Description:"
   ]
  },
  {
   "attachments": {},
   "cell_type": "markdown",
   "metadata": {},
   "source": [
    "- We first import re for the regular expressions operations.\n",
    "- Next we define the data file with the movie names and actors as movie_dict.\n",
    "- The function movie_check allows us to see if the movie is actually within the database along the defined expressions for the first and second movie within the [0] and [1] index.\n",
    "- Within this function we utilize the if and else statements in order for the function to print properly.\n",
    "- We close with 2 for loops in order to print these statements for the movies and actors.\n",
    "\n",
    "\n"
   ]
  },
  {
   "attachments": {},
   "cell_type": "markdown",
   "metadata": {},
   "source": [
    "# Question 3 Song-writing\n",
    "## Approach:\n",
    "The helper function converts the endings file into a dictionary with the ending word as the key and the rhythm and number of beats as values in a list. The main function then iterates through each line of the song skeleton text file; if the line does not have an ending, the line is printed. If the line is complete, variables are updated to reflect the line's total number of beats and rhythm using the dictionary. The total number of beats is calculated by adding the beats in the prefix and beats in the ending word(s) by retrieving the value from our dictionary. If the line is incomplete, the appropriate ending is found by subtracting the total variable from the number of beats in the prefix. The dictionary is traversed to find an ending word that matches the number of beats and rhythm. The dictionary key match is then added to the ending and printed."
   ]
  },
  {
   "cell_type": "code",
   "execution_count": 18,
   "metadata": {},
   "outputs": [
    {
     "name": "stdout",
     "output_type": "stream",
     "text": [
      "He took a drag of the eight elements that composed, atmospheric gas\n",
      "'Bout to let off his sword, and full blast\n",
      "Kept his mind focused\n",
      "meditation position half lotus\n",
      "Abbot's sword novas couldn't match his magnum opus\n",
      "Deluxe stroke\n",
      "son move like a ghost\n",
      "Struck in an instance,\n",
      "unnoticed like a lamp post\n",
      "Radar sharp precision gunfire,\n",
      "explode\n",
      "Till his clips unload\n",
      "it's a samurai code\n"
     ]
    }
   ],
   "source": [
    "\n",
    "\n",
    "def ending_dict(file):\n",
    "    with open(file,'r') as fp:\n",
    "        endings = {}\n",
    "        for line in fp:\n",
    "            line = line.strip().split(\"::\")\n",
    "            # ending word as the key and the rhythm and beats as the values\n",
    "            endings[line[0]] = [line[1], line[2]]\n",
    "    \n",
    "    return endings\n",
    "\n",
    "def poetry_match(file):\n",
    "    endings = ending_dict(\"endings.txt\")\n",
    "\n",
    "    with open(file, \"r\") as fp:\n",
    "        rhythm = \"\"\n",
    "        total = 0\n",
    "\n",
    "        for line in fp:\n",
    "            line = line.strip().split(\"::\")\n",
    "            # if no ending then dont use to set rhythm\n",
    "            if line[2] == \"\":\n",
    "                print(line[0])\n",
    "\n",
    "            elif line[2] != \"XXX\":\n",
    "                # find total # of beats in prefix and ending word\n",
    "                total = int(line[1]) + int(endings[line[2]][1])\n",
    "                rhythm = endings[line[2]][0]\n",
    "                #remove the space for skeleton lines that only have an ending\n",
    "                if line[0] != '':\n",
    "                    print(line[0], line[2])\n",
    "                else:\n",
    "                    print(line[2])\n",
    "\n",
    "            else:\n",
    "                beats = int(line[1])\n",
    "                req = total - beats\n",
    "\n",
    "                for key, value in endings.items():\n",
    "                    if int(value[1]) == req and value[0] == rhythm:\n",
    "                        missing = key\n",
    "                        print(line[0], missing)\n",
    "                        break\n",
    "\n",
    "poetry_match(\"skeleton_SamuraiShowdown.txt\")"
   ]
  },
  {
   "attachments": {},
   "cell_type": "markdown",
   "metadata": {},
   "source": [
    "## Description:"
   ]
  },
  {
   "attachments": {},
   "cell_type": "markdown",
   "metadata": {},
   "source": [
    "- We use the function ending_dict to find the open the file and create a dictionary for song endings and then closes the file in order to return the ending.\n",
    "- We then create the poetry_match function to align it with the returned endings from the previous function.\n",
    "- Within this we create the for loop in order the find the index within the file and read it by line.\n",
    "- Nested within the for loop we use else, elif, and if statements in order to correct the print layout with the defined expressions for what we are looking for within the index that we want.\n",
    "- After this we can create nested print statements in order to print which index between [0], [1], [2] that we want with the missing keys.\n",
    "- We then close the file in order for it to update.Finally we use the skeleton_SamuraiShowdown file in order to match the poetry to the rhythm found.\n",
    "\n"
   ]
  }
 ],
 "metadata": {
  "kernelspec": {
   "display_name": "Python 3",
   "language": "python",
   "name": "python3"
  },
  "language_info": {
   "codemirror_mode": {
    "name": "ipython",
    "version": 3
   },
   "file_extension": ".py",
   "mimetype": "text/x-python",
   "name": "python",
   "nbconvert_exporter": "python",
   "pygments_lexer": "ipython3",
   "version": "3.11.0"
  },
  "orig_nbformat": 4,
  "vscode": {
   "interpreter": {
    "hash": "aee8b7b246df8f9039afb4144a1f6fd8d2ca17a180786b69acc140d282b71a49"
   }
  }
 },
 "nbformat": 4,
 "nbformat_minor": 2
}
